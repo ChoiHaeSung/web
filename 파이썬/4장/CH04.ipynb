{
 "cells": [
  {
   "cell_type": "code",
   "execution_count": 3,
   "metadata": {},
   "outputs": [
    {
     "name": "stdout",
     "output_type": "stream",
     "text": [
      "*****************************\n"
     ]
    }
   ],
   "source": [
    "def print_star(): # 별표 출력을 위한 함수 정의\n",
    "    print('*****************************')\n",
    "\n",
    "print_star()    #별표출력을 위한 함수 호출"
   ]
  },
  {
   "cell_type": "code",
   "execution_count": 6,
   "metadata": {},
   "outputs": [
    {
     "name": "stdout",
     "output_type": "stream",
     "text": [
      "**********************\n",
      "**********************\n",
      "**********************\n",
      "**********************\n"
     ]
    }
   ],
   "source": [
    "def print_star():\n",
    "    print('**********************')\n",
    "\n",
    "print_star()   #별표 출력함수 호출 1\n",
    "print_star()   #별표 출력함수 호출 2\n",
    "print_star()   #별표 출력함수 호출 3\n",
    "print_star()   #별표 출력함수 호출 4"
   ]
  },
  {
   "cell_type": "code",
   "execution_count": 8,
   "metadata": {},
   "outputs": [
    {
     "name": "stdout",
     "output_type": "stream",
     "text": [
      "*********************\n",
      "*********************\n",
      "*********************\n",
      "*********************\n",
      "*********************\n",
      "*********************\n"
     ]
    }
   ],
   "source": [
    "def print_star():\n",
    "    print('*********************')\n",
    "\n",
    "print_star()\n",
    "print_star()\n",
    "print_star()\n",
    "print_star()\n",
    "print_star()\n",
    "print_star()"
   ]
  },
  {
   "cell_type": "code",
   "execution_count": null,
   "metadata": {},
   "outputs": [
    {
     "name": "stdout",
     "output_type": "stream",
     "text": [
      "*********************\n",
      "*********************\n",
      "*********************\n",
      "*********************\n",
      "*********************\n",
      "*********************\n"
     ]
    }
   ],
   "source": [
    "def print_star():\n",
    "    print('*********************')\n",
    "\n",
    "print_star()\n",
    "print_star()\n",
    "print_star()\n",
    "print_star()\n",
    "print_star()\n",
    "print_star()"
   ]
  },
  {
   "cell_type": "code",
   "execution_count": null,
   "metadata": {},
   "outputs": [
    {
     "name": "stdout",
     "output_type": "stream",
     "text": [
      "*********************\n",
      "*********************\n",
      "*********************\n",
      "*********************\n",
      "*********************\n",
      "*********************\n"
     ]
    }
   ],
   "source": [
    "def print_star():\n",
    "    print('*********************')\n",
    "\n",
    "print_star()\n",
    "print_star()\n",
    "print_star()\n",
    "print_star()\n",
    "print_star()\n",
    "print_star()"
   ]
  },
  {
   "cell_type": "code",
   "execution_count": 9,
   "metadata": {},
   "outputs": [
    {
     "name": "stdout",
     "output_type": "stream",
     "text": [
      "*********************\n",
      "*********************\n",
      "*********************\n",
      "*********************\n",
      "*********************\n",
      "*********************\n",
      "*********************\n",
      "*********************\n",
      "*********************\n",
      "*********************\n"
     ]
    }
   ],
   "source": [
    "def print_star():\n",
    "    print('*********************')\n",
    "    print('*********************')\n",
    "    print('*********************')\n",
    "    print('*********************')\n",
    "    print('*********************')\n",
    "\n",
    "print_star()\n",
    "print_star()"
   ]
  },
  {
   "cell_type": "code",
   "execution_count": 12,
   "metadata": {},
   "outputs": [
    {
     "name": "stdout",
     "output_type": "stream",
     "text": [
      "***********************\n",
      "***********************\n",
      "***********************\n",
      "***********************\n"
     ]
    }
   ],
   "source": [
    "def print_star(n):\n",
    "    for _ in range(n):\n",
    "        print('***********************')\n",
    "\n",
    "print_star(4)"
   ]
  },
  {
   "cell_type": "code",
   "execution_count": 13,
   "metadata": {},
   "outputs": [
    {
     "name": "stdout",
     "output_type": "stream",
     "text": [
      "***********************\n",
      "***********************\n",
      "***********************\n",
      "***********************\n",
      "***********************\n",
      "***********************\n"
     ]
    }
   ],
   "source": [
    "def print_star(n):\n",
    "    for _ in range(n):\n",
    "        print('***********************')\n",
    "\n",
    "print_star(6)"
   ]
  },
  {
   "cell_type": "code",
   "execution_count": 23,
   "metadata": {},
   "outputs": [
    {
     "name": "stdout",
     "output_type": "stream",
     "text": [
      "0 ##################\n",
      "1 ##################\n",
      "2 ##################\n",
      "3 ##################\n",
      "4 ##################\n",
      "5 ##################\n"
     ]
    }
   ],
   "source": [
    "def print_hash(n):\n",
    "    for i in range(n):\n",
    "        print(i,'##################')\n",
    "\n",
    "print_hash(6)"
   ]
  },
  {
   "cell_type": "code",
   "execution_count": 24,
   "metadata": {},
   "outputs": [
    {
     "name": "stdout",
     "output_type": "stream",
     "text": [
      "Hello를 두 번 출력합니다.\n",
      "Hello Hello \n",
      "Hello를 세 번 출력합니다.\n",
      "Hello Hello Hello \n",
      "Hello를 네 번 출력합니다.\n",
      "Hello Hello Hello Hello \n"
     ]
    }
   ],
   "source": [
    "def print_hello(n):           \n",
    "    print('Hello ' * n)\n",
    "    \n",
    "print('Hello를 두 번 출력합니다.')\n",
    "print_hello(2)\n",
    "print('Hello를 세 번 출력합니다.')\n",
    "print_hello(3)\n",
    "print('Hello를 네 번 출력합니다.')\n",
    "print_hello(4)"
   ]
  },
  {
   "cell_type": "code",
   "execution_count": 25,
   "metadata": {},
   "outputs": [
    {
     "name": "stdout",
     "output_type": "stream",
     "text": [
      "10 과 20 의 합은 30 입니다.\n",
      "100 과 200 의 합은 300 입니다.\n"
     ]
    }
   ],
   "source": [
    "def print_sum(a, b):              \n",
    "    result = a + b\n",
    "    print(a, '과', b, '의 합은', result, '입니다.')\n",
    "    \n",
    "print_sum(10, 20)\n",
    "print_sum(100, 200)"
   ]
  },
  {
   "cell_type": "code",
   "execution_count": 26,
   "metadata": {},
   "outputs": [
    {
     "name": "stdout",
     "output_type": "stream",
     "text": [
      "10 과 20 의 합은 30 입니다.\n"
     ]
    }
   ],
   "source": [
    "def print_sum(a, b):    \n",
    "    result = a + b\n",
    "    print(a, '과', b, '의 합은', result, '입니다.')\n",
    "    \n",
    "print_sum(10,20) "
   ]
  },
  {
   "cell_type": "code",
   "execution_count": 27,
   "metadata": {},
   "outputs": [
    {
     "name": "stdout",
     "output_type": "stream",
     "text": [
      "해는 2.0 또는 -4.0\n"
     ]
    }
   ],
   "source": [
    "a = 1\n",
    "b = 2\n",
    "c = -8\n",
    "\n",
    "# ( a * x^2 ) + ( b * x ) + c = 0\n",
    "r1 = (-b + (b ** 2 - 4 * a * c) ** 0.5) / (2 * a)\n",
    "r2 = (-b - (b ** 2 - 4 * a * c) ** 0.5) / (2 * a)\n",
    "\n",
    "print('해는', r1, '또는', r2)"
   ]
  },
  {
   "cell_type": "code",
   "execution_count": null,
   "metadata": {},
   "outputs": [],
   "source": [
    "a = 1\n",
    "b = 2\n",
    "c = -8\n",
    "\n",
    "#근의 공식으로 해를 한 번 더 구한다.(반복되는 코드)\n",
    "r1 = (-b + (b ** 2 - 4 * a * c) ** 0.5) / (2 * a)\n",
    "r2 = (-b - (b ** 2 - 4 * a * c) ** 0.5) / (2 * a)\n",
    "\n",
    "print('해는', r1, '또는', r2)\n",
    "a = 2\n",
    "b = -6\n",
    "c = -8\n",
    "#근의 공식으로 해를 한 번 더 구한다.(반복되는 코드)\n",
    "r1 = (-b + (b ** 2 - 4 * a * c) ** 0.5) / (2 * a)\n",
    "r2 = (-b - (b ** 2 - 4 * a * c) ** 0.5) / (2 * a)\n",
    "\n",
    "print('해는', r1, '또는', r2)"
   ]
  },
  {
   "cell_type": "code",
   "execution_count": 56,
   "metadata": {},
   "outputs": [
    {
     "name": "stdout",
     "output_type": "stream",
     "text": [
      "3 6 9 12\n",
      "2 4 6 8 10\n"
     ]
    }
   ],
   "source": [
    "#LAB 4-8\n",
    "def multiplise(n, m):\n",
    "    tup = ()\n",
    "    for i in range(1, m+ 1):\n",
    "        tup += (i *n, )\n",
    "    return tup\n",
    "\n",
    "r1, r2, r3, r4 = multiplise(3,4)\n",
    "print(r1, r2, r3, r4)\n",
    "\n",
    "r1, r2, r3, r4, r5 = multiplise(2,5)\n",
    "print(r1, r2, r3, r4, r5)\n"
   ]
  },
  {
   "cell_type": "code",
   "execution_count": 28,
   "metadata": {},
   "outputs": [
    {
     "name": "stdout",
     "output_type": "stream",
     "text": [
      "해는 2.0 또는 -4.0\n",
      "해는 4.0 또는 -1.0\n"
     ]
    }
   ],
   "source": [
    "def print_root(a, b, c):    \n",
    "    r1 = (-b + (b ** 2 - 4 * a * c) ** 0.5) / (2 * a)    \n",
    "    r2 = (-b - (b ** 2 - 4 * a * c) ** 0.5) / (2 * a)    \n",
    "    print('해는', r1, '또는', r2)\n",
    "    \n",
    "# 계수값이 다른 2차 방정식의 해를 구함\n",
    "print_root(1, 2, -8)\n",
    "print_root(2, -6, -8)"
   ]
  },
  {
   "cell_type": "code",
   "execution_count": 30,
   "metadata": {},
   "outputs": [
    {
     "name": "stdout",
     "output_type": "stream",
     "text": [
      "밑변 10, 높이 20인 삼각형의 면적은 : 100.0\n"
     ]
    }
   ],
   "source": [
    "def print_area(width, height):\n",
    "    area = width * height / 2\n",
    "    print('밑변 {}, 높이 {}인 삼각형의 면적은 : {}'.format(width, height, area))\n",
    "    \n",
    "print_area(10,20)"
   ]
  },
  {
   "cell_type": "code",
   "execution_count": 31,
   "metadata": {},
   "outputs": [
    {
     "name": "stdout",
     "output_type": "stream",
     "text": [
      "10과 20의 합 = 30\n",
      "100과 200의 합 = 300\n"
     ]
    }
   ],
   "source": [
    "def get_sum(a, b):       # 두 수의 합을 반환하는 함수\n",
    "    result = a + b    \n",
    "    return result        # return 문을 사용하여 result를 반환\n",
    "\n",
    "n1 = get_sum(10, 20)\n",
    "print('10과 20의 합 =', n1)\n",
    "\n",
    "n2 = get_sum(100, 200)\n",
    "print('100과 200의 합 =', n2)"
   ]
  },
  {
   "cell_type": "code",
   "execution_count": 32,
   "metadata": {},
   "outputs": [
    {
     "name": "stdout",
     "output_type": "stream",
     "text": [
      "두 수의 합 300\n"
     ]
    }
   ],
   "source": [
    "def get_sum(a, b):\n",
    "    return a + b\n",
    "\n",
    "result = get_sum(100, 200)\n",
    "print('두 수의 합', result)"
   ]
  },
  {
   "cell_type": "code",
   "execution_count": 33,
   "metadata": {},
   "outputs": [
    {
     "name": "stdout",
     "output_type": "stream",
     "text": [
      "두 수의 합 = 300\n"
     ]
    }
   ],
   "source": [
    "# 아래의 코드 수행 결과는 위와 동일합니다.\n",
    "def get_sum(a, b):    \n",
    "    return a + b    \n",
    "    \n",
    "print('두 수의 합 =', get_sum(100, 200))"
   ]
  },
  {
   "cell_type": "code",
   "execution_count": null,
   "metadata": {},
   "outputs": [],
   "source": [
    "def get_root(a, b, c):    \n",
    "    r1 = (-b + (b ** 2 - 4 * a * c) ** 0.5) / (2 * a)    \n",
    "    r2 = (-b - (b ** 2 - 4 * a * c) ** 0.5) / (2 * a)    \n",
    "    return r1, r2\n",
    "\n",
    "# 함수 호출시 인자를 상수 값을 사용함\n",
    "# result1, result2를 이용해서 결과 값을 반환 받아온다\n",
    "result1, result2 = get_root(1, 2, -8)\n",
    "print('해는', result1, '또는', result2)"
   ]
  },
  {
   "cell_type": "code",
   "execution_count": null,
   "metadata": {},
   "outputs": [],
   "source": [
    "def print_sum():\n",
    "    result = a + b\n",
    "    print('print_sum() 내부 :', a, '과', b, '의 합은', result, '입니다.')\n",
    "    \n",
    "a = 10\n",
    "b = 20\n",
    "print_sum()\n",
    "result = a + b\n",
    "print('print_sum() 외부 :', a, '과', b, '의 합은', result, '입니다.')"
   ]
  },
  {
   "cell_type": "code",
   "execution_count": null,
   "metadata": {},
   "outputs": [],
   "source": [
    "def print_sum():\n",
    "    a = 100\n",
    "    b = 200\n",
    "    result = a + b\n",
    "    print('print_sum() 내부 :', a, '과', b, '의 합은', result, '입니다.')\n",
    "    \n",
    "a = 10\n",
    "b = 20\n",
    "print_sum()"
   ]
  },
  {
   "cell_type": "code",
   "execution_count": null,
   "metadata": {},
   "outputs": [],
   "source": [
    "def print_sum():\n",
    "    a = 100\n",
    "    b = 200\n",
    "    result = a + b\n",
    "    print('print_sum() 내부 :', a, '과', b, '의 합은', result, '입니다.')\n",
    "    \n",
    "a = 10\n",
    "b = 20\n",
    "print_sum()\n",
    "result = a + b\n",
    "print('print_sum() 외부 :', a, '과', b, '의 합은', result, '입니다.')"
   ]
  },
  {
   "cell_type": "code",
   "execution_count": null,
   "metadata": {},
   "outputs": [],
   "source": []
  },
  {
   "cell_type": "code",
   "execution_count": null,
   "metadata": {},
   "outputs": [],
   "source": []
  },
  {
   "cell_type": "code",
   "execution_count": null,
   "metadata": {},
   "outputs": [],
   "source": []
  },
  {
   "cell_type": "code",
   "execution_count": null,
   "metadata": {},
   "outputs": [],
   "source": []
  }
 ],
 "metadata": {
  "kernelspec": {
   "display_name": "Python 3",
   "language": "python",
   "name": "python3"
  },
  "language_info": {
   "codemirror_mode": {
    "name": "ipython",
    "version": 3
   },
   "file_extension": ".py",
   "mimetype": "text/x-python",
   "name": "python",
   "nbconvert_exporter": "python",
   "pygments_lexer": "ipython3",
   "version": "3.12.2"
  }
 },
 "nbformat": 4,
 "nbformat_minor": 2
}
