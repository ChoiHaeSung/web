{
 "cells": [
  {
   "cell_type": "code",
   "execution_count": 33,
   "metadata": {},
   "outputs": [
    {
     "name": "stdout",
     "output_type": "stream",
     "text": [
      "#\n",
      " #\n",
      "  #\n",
      "   #\n",
      "    #\n",
      "     #\n",
      "      #\n"
     ]
    }
   ],
   "source": [
    "n = 7\n",
    "for i in range(n):       # 외부 for 루프는 n번 수행, i는 0,1,2,3,4,5,6 까지 증가\n",
    "    st = ''\n",
    "    for j in  range(i):  # 내부 for 루프는 i번 수행\n",
    "        st = st + ' '    # 공백을 i개 추가함\n",
    "    print(st + '#')      # 공백 추가 후 '#'출력"
   ]
  },
  {
   "cell_type": "code",
   "execution_count": 31,
   "metadata": {},
   "outputs": [
    {
     "name": "stdout",
     "output_type": "stream",
     "text": [
      "21! = 51090942171709440000\n"
     ]
    }
   ],
   "source": [
    "n = int(input('수를 입력하세요:'))\n",
    "fact = 1\n",
    "for i in range(1, n+1):\n",
    "    fact = fact * i\n",
    "\n",
    "print('{}! = {}'. format(n, fact))"
   ]
  },
  {
   "cell_type": "code",
   "execution_count": 16,
   "metadata": {},
   "outputs": [
    {
     "name": "stdout",
     "output_type": "stream",
     "text": [
      "i + 1, s= 1\n",
      "1에서 10까지의 합: 1\n",
      "i + 2, s= 3\n",
      "1에서 10까지의 합: 3\n",
      "i + 3, s= 6\n",
      "1에서 10까지의 합: 6\n",
      "i + 4, s= 10\n",
      "1에서 10까지의 합: 10\n",
      "i + 5, s= 15\n",
      "1에서 10까지의 합: 15\n",
      "i + 6, s= 21\n",
      "1에서 10까지의 합: 21\n",
      "i + 7, s= 28\n",
      "1에서 10까지의 합: 28\n",
      "i + 8, s= 36\n",
      "1에서 10까지의 합: 36\n",
      "i + 9, s= 45\n",
      "1에서 10까지의 합: 45\n",
      "i + 10, s= 55\n",
      "1에서 10까지의 합: 55\n"
     ]
    }
   ],
   "source": [
    "s = 0\n",
    "for i in range(1,11):\n",
    "    s = s + i\n",
    "    print('i + {}, s= {}'. format(i,s))\n",
    "\n",
    "    print('1에서 10까지의 합:', s)"
   ]
  },
  {
   "cell_type": "code",
   "execution_count": 29,
   "metadata": {},
   "outputs": [
    {
     "name": "stdout",
     "output_type": "stream",
     "text": [
      "i = 1, s = 1\n",
      "i = 2, s = 3\n",
      "i = 3, s = 6\n",
      "i = 4, s = 10\n",
      "i = 5, s = 15\n",
      "i = 6, s = 21\n",
      "i = 7, s = 28\n",
      "i = 8, s = 36\n",
      "i = 9, s = 45\n",
      "i = 10, s = 55\n",
      "1에서 10까지의 합: 55\n"
     ]
    }
   ],
   "source": [
    "s =0\n",
    "for i in range(1,11):\n",
    "    s = s + i\n",
    "    # print('i =', i, 's =' s)\n",
    "    print('i = {}, s = {}'.format(i, s))\n",
    "\n",
    "print('1에서 10까지의 합:', s)"
   ]
  },
  {
   "cell_type": "code",
   "execution_count": 13,
   "metadata": {},
   "outputs": [
    {
     "name": "stdout",
     "output_type": "stream",
     "text": [
      "234\n",
      "0 2 4 6 8 \n",
      "-2 -4 -6 -8 \n"
     ]
    }
   ],
   "source": [
    "for i in range(2,5):\n",
    "    print(i, end ='')\n",
    "print()\n",
    "\n",
    "#표현식 2 : 간격 값을 사용하여 출력\n",
    "for i in range(0, 10, 2):\n",
    "    print(i, end = ' ')\n",
    "print()\n",
    "\n",
    "for i in range(-2, -10, -2):\n",
    "    print(i, end = ' ')\n",
    "print()"
   ]
  },
  {
   "cell_type": "code",
   "execution_count": 2,
   "metadata": {},
   "outputs": [
    {
     "name": "stdout",
     "output_type": "stream",
     "text": [
      "01234\n",
      "01234\n"
     ]
    }
   ],
   "source": [
    "for i in range(5):\n",
    "    print(i, end = '')\n",
    "print()\n",
    "\n",
    "for i in range(0,5):\n",
    "    print(i, end= '')\n",
    "print()"
   ]
  }
 ],
 "metadata": {
  "kernelspec": {
   "display_name": "Python 3",
   "language": "python",
   "name": "python3"
  },
  "language_info": {
   "codemirror_mode": {
    "name": "ipython",
    "version": 3
   },
   "file_extension": ".py",
   "mimetype": "text/x-python",
   "name": "python",
   "nbconvert_exporter": "python",
   "pygments_lexer": "ipython3",
   "version": "3.12.2"
  }
 },
 "nbformat": 4,
 "nbformat_minor": 2
}
