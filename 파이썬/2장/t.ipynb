{
 "cells": [
  {
   "cell_type": "code",
   "execution_count": null,
   "metadata": {},
   "outputs": [],
   "source": []
  },
  {
   "cell_type": "code",
   "execution_count": 218,
   "metadata": {},
   "outputs": [
    {
     "name": "stdout",
     "output_type": "stream",
     "text": [
      "10! = 3628800\n"
     ]
    }
   ],
   "source": [
    "n = int(input('수를 입력하세요 :'))\n",
    "fact = 1\n",
    "for i in range(1, n+1):\n",
    "    fact =fact * i\n",
    "\n",
    "print('{}! = {}'.format(n, fact))"
   ]
  },
  {
   "cell_type": "code",
   "execution_count": 214,
   "metadata": {},
   "outputs": [
    {
     "name": "stdout",
     "output_type": "stream",
     "text": [
      "1부터 100까지의 합은 5050\n"
     ]
    }
   ],
   "source": [
    "n = int(input('합계를 구할 수를 입력하세요 :'))\n",
    "s = 0\n",
    "\n",
    "for i in range(1, n+1):\n",
    "    s = s + i\n",
    "\n",
    "print('1부터 {}까지의 합은 {}'.format(n,s))"
   ]
  },
  {
   "cell_type": "code",
   "execution_count": 208,
   "metadata": {},
   "outputs": [
    {
     "name": "stdout",
     "output_type": "stream",
     "text": [
      "1부터 100까지의 합은 5050\n"
     ]
    }
   ],
   "source": [
    "n = int(input('합계를 구할 수를 입력하세요 :'))\n",
    "s = 0\n",
    "\n",
    "for i in range(0,n):\n",
    "    s = s + (i+1)\n",
    "\n",
    "print('1부터 {}까지의 합은 {}'.format(n, s))"
   ]
  },
  {
   "cell_type": "code",
   "execution_count": 203,
   "metadata": {},
   "outputs": [
    {
     "name": "stdout",
     "output_type": "stream",
     "text": [
      "i = 1, s = 1\n",
      "i = 2, s = 3\n",
      "i = 3, s = 6\n",
      "i = 4, s = 10\n",
      "i = 5, s = 15\n",
      "i = 6, s = 21\n",
      "i = 7, s = 28\n",
      "i = 8, s = 36\n",
      "i = 9, s = 45\n",
      "i = 10, s = 55\n",
      "1에서 10까지의 합: 55\n"
     ]
    }
   ],
   "source": [
    "s = 0\n",
    "for i in range(1,11):\n",
    "    s = s + i\n",
    "    print('i = {}, s = {}'.format(i,s))\n",
    "\n",
    "print('1에서 10까지의 합:', s)"
   ]
  },
  {
   "cell_type": "code",
   "execution_count": 204,
   "metadata": {},
   "outputs": [
    {
     "name": "stdout",
     "output_type": "stream",
     "text": [
      "1에서 10까지의 합: 55\n"
     ]
    }
   ],
   "source": [
    "s = 0\n",
    "for i in range(1, 11):\n",
    "    s = s + i\n",
    "print('1에서 10까지의 합:', s)"
   ]
  },
  {
   "cell_type": "code",
   "execution_count": 200,
   "metadata": {},
   "outputs": [
    {
     "name": "stdout",
     "output_type": "stream",
     "text": [
      "2 3 4 \n",
      "0 2 4 6 8 \n",
      "-2 -4 -6 -8 \n"
     ]
    }
   ],
   "source": [
    "for i in range(2,5):\n",
    "    print(i, end = ' ')\n",
    "print()\n",
    "\n",
    "for i in range(0, 10, 2):\n",
    "    print(i, end = ' ')\n",
    "print()\n",
    "\n",
    "for i in range(-2, -10, -2):\n",
    "    print(i, end = ' ')\n",
    "print()"
   ]
  },
  {
   "cell_type": "code",
   "execution_count": 198,
   "metadata": {},
   "outputs": [
    {
     "name": "stdout",
     "output_type": "stream",
     "text": [
      "0 1 2 3 4 \n",
      "0 1 2 3 4 \n"
     ]
    }
   ],
   "source": [
    "for i in range(5):\n",
    "    print(i, end = ' ')\n",
    "print()\n",
    "\n",
    "for i in range(0, 5):\n",
    "    print(i, end = ' ')\n",
    "print()\n"
   ]
  },
  {
   "cell_type": "code",
   "execution_count": 197,
   "metadata": {},
   "outputs": [
    {
     "name": "stdout",
     "output_type": "stream",
     "text": [
      "0 1 2 3 4 0 1 2 3 4 "
     ]
    }
   ],
   "source": [
    "for i in range(5):\n",
    "    print(i, end = ' ')\n",
    "\n",
    "\n",
    "for i in range(0, 5):\n",
    "    print(i, end = ' ')"
   ]
  },
  {
   "cell_type": "code",
   "execution_count": 192,
   "metadata": {},
   "outputs": [
    {
     "name": "stdout",
     "output_type": "stream",
     "text": [
      "0\n",
      "1\n",
      "2\n",
      "3\n",
      "4\n"
     ]
    }
   ],
   "source": [
    "for i in range(5):\n",
    "    print(i)"
   ]
  },
  {
   "cell_type": "code",
   "execution_count": 191,
   "metadata": {},
   "outputs": [
    {
     "data": {
      "text/plain": [
       "[1,\n",
       " 2,\n",
       " 3,\n",
       " 4,\n",
       " 5,\n",
       " 6,\n",
       " 7,\n",
       " 8,\n",
       " 9,\n",
       " 10,\n",
       " 11,\n",
       " 12,\n",
       " 13,\n",
       " 14,\n",
       " 15,\n",
       " 16,\n",
       " 17,\n",
       " 18,\n",
       " 19,\n",
       " 20,\n",
       " 21,\n",
       " 22,\n",
       " 23,\n",
       " 24,\n",
       " 25,\n",
       " 26,\n",
       " 27,\n",
       " 28,\n",
       " 29,\n",
       " 30,\n",
       " 31,\n",
       " 32,\n",
       " 33,\n",
       " 34,\n",
       " 35,\n",
       " 36,\n",
       " 37,\n",
       " 38,\n",
       " 39,\n",
       " 40,\n",
       " 41,\n",
       " 42,\n",
       " 43,\n",
       " 44,\n",
       " 45,\n",
       " 46,\n",
       " 47,\n",
       " 48,\n",
       " 49,\n",
       " 50,\n",
       " 51,\n",
       " 52,\n",
       " 53,\n",
       " 54,\n",
       " 55,\n",
       " 56,\n",
       " 57,\n",
       " 58,\n",
       " 59,\n",
       " 60,\n",
       " 61,\n",
       " 62,\n",
       " 63,\n",
       " 64,\n",
       " 65,\n",
       " 66,\n",
       " 67,\n",
       " 68,\n",
       " 69,\n",
       " 70,\n",
       " 71,\n",
       " 72,\n",
       " 73,\n",
       " 74,\n",
       " 75,\n",
       " 76,\n",
       " 77,\n",
       " 78,\n",
       " 79,\n",
       " 80,\n",
       " 81,\n",
       " 82,\n",
       " 83,\n",
       " 84,\n",
       " 85,\n",
       " 86,\n",
       " 87,\n",
       " 88,\n",
       " 89,\n",
       " 90,\n",
       " 91,\n",
       " 92,\n",
       " 93,\n",
       " 94,\n",
       " 95,\n",
       " 96,\n",
       " 97,\n",
       " 98,\n",
       " 99,\n",
       " 100]"
      ]
     },
     "execution_count": 191,
     "metadata": {},
     "output_type": "execute_result"
    }
   ],
   "source": [
    "list(range(1,101,1))"
   ]
  },
  {
   "cell_type": "code",
   "execution_count": 188,
   "metadata": {},
   "outputs": [
    {
     "data": {
      "text/plain": [
       "[-2, -4, -6, -8]"
      ]
     },
     "execution_count": 188,
     "metadata": {},
     "output_type": "execute_result"
    }
   ],
   "source": [
    "list(range(5))\n",
    "list(range(0, 5))\n",
    "list(range(0, 5, 1))\n",
    "list(range(0, 5, 2))\n",
    "list(range(2,5))\n",
    "list(range(0, 10, 2))\n",
    "list(range(1, 10, 2))\n",
    "list(range(-2, -10, -2))"
   ]
  },
  {
   "cell_type": "code",
   "execution_count": 184,
   "metadata": {},
   "outputs": [
    {
     "name": "stdout",
     "output_type": "stream",
     "text": [
      "0\n",
      "1\n",
      "2\n",
      "3\n",
      "4\n"
     ]
    }
   ],
   "source": [
    "for i in range(5):\n",
    "    print(i)"
   ]
  },
  {
   "cell_type": "code",
   "execution_count": 182,
   "metadata": {},
   "outputs": [
    {
     "name": "stdout",
     "output_type": "stream",
     "text": [
      "Hello, Python!\n",
      "Hello, Python!\n",
      "Hello, Python!\n",
      "Hello, Python!\n",
      "Hello, Python!\n"
     ]
    }
   ],
   "source": [
    "for i in range(5):\n",
    "    print('Hello, Python!')"
   ]
  },
  {
   "cell_type": "code",
   "execution_count": 179,
   "metadata": {},
   "outputs": [
    {
     "name": "stdout",
     "output_type": "stream",
     "text": [
      "0 Welcome to everyon!!\n",
      "1 Welcome to everyon!!\n",
      "2 Welcome to everyon!!\n",
      "3 Welcome to everyon!!\n",
      "4 Welcome to everyon!!\n",
      "5 Welcome to everyon!!\n",
      "6 Welcome to everyon!!\n",
      "7 Welcome to everyon!!\n",
      "8 Welcome to everyon!!\n",
      "9 Welcome to everyon!!\n"
     ]
    }
   ],
   "source": [
    "for i in range(10):\n",
    "    print(i, 'Welcome to everyon!!')"
   ]
  },
  {
   "cell_type": "code",
   "execution_count": 175,
   "metadata": {},
   "outputs": [
    {
     "name": "stdout",
     "output_type": "stream",
     "text": [
      "Welcome to everyon!!\n",
      "Welcome to everyon!!\n",
      "Welcome to everyon!!\n",
      "Welcome to everyon!!\n",
      "Welcome to everyon!!\n"
     ]
    }
   ],
   "source": [
    "print('Welcome to everyon!!')\n",
    "print('Welcome to everyon!!')\n",
    "print('Welcome to everyon!!')\n",
    "print('Welcome to everyon!!')\n",
    "print('Welcome to everyon!!')"
   ]
  },
  {
   "cell_type": "code",
   "execution_count": 174,
   "metadata": {},
   "outputs": [
    {
     "name": "stdout",
     "output_type": "stream",
     "text": [
      "나쁨\n"
     ]
    }
   ],
   "source": [
    "mi = int(input('미세먼지 농도를 입력하세요'))\n",
    "\n",
    "if mi <= 15:\n",
    "    grade = '좋은'\n",
    "elif mi <= 35:\n",
    "    grade = '보통'\n",
    "elif mi <= 75:\n",
    "    grade = '나쁨'\n",
    "else:\n",
    "    grade = '매우나쁨'\n",
    "\n",
    "print(grade)"
   ]
  },
  {
   "cell_type": "code",
   "execution_count": 170,
   "metadata": {},
   "outputs": [
    {
     "name": "stdout",
     "output_type": "stream",
     "text": [
      "고속\n"
     ]
    }
   ],
   "source": [
    "km = int(input('속도를 입력하세요'))\n",
    "\n",
    "if km <= 60:\n",
    "    grade = '저속'\n",
    "elif km >= 130:\n",
    "    grade = '고속'\n",
    "\n",
    "print(grade)\n"
   ]
  },
  {
   "cell_type": "code",
   "execution_count": 166,
   "metadata": {},
   "outputs": [
    {
     "name": "stdout",
     "output_type": "stream",
     "text": [
      "당시느이 등급은 : A\n"
     ]
    }
   ],
   "source": [
    "score = int(input('점수를 입력하세요 :'))\n",
    "\n",
    "if score >= 90:\n",
    "    grade = 'A'\n",
    "elif scpre >= 80:\n",
    "    grade = 'B'\n",
    "elif scpre >= 70:\n",
    "    grade = 'C'\n",
    "elif scpre >= 60:\n",
    "    grade = 'D'\n",
    "else:\n",
    "    grade = 'F'\n",
    "\n",
    "    \n",
    "print('당신의 등급은 :', grade)"
   ]
  },
  {
   "cell_type": "code",
   "execution_count": 162,
   "metadata": {},
   "outputs": [
    {
     "name": "stdout",
     "output_type": "stream",
     "text": [
      "당시느이 등급은 : B\n"
     ]
    }
   ],
   "source": [
    "score = int(input('점수를 입력하세요 :'))\n",
    "\n",
    "if score >= 90:\n",
    "    grade = 'A'\n",
    "else:\n",
    "    if score >= 80 :\n",
    "        grade = 'B'\n",
    "    else:\n",
    "        if score >= 70:\n",
    "            grade = 'C'\n",
    "        else: \n",
    "            if score >= 60 :\n",
    "                grade = 'D'\n",
    "            else:\n",
    "                   grade = 'F'\n",
    "\n",
    "print('당신의 등급은 :', grade)\n"
   ]
  },
  {
   "cell_type": "code",
   "execution_count": 159,
   "metadata": {},
   "outputs": [
    {
     "name": "stdout",
     "output_type": "stream",
     "text": [
      "당신의 등급은 : D\n"
     ]
    }
   ],
   "source": [
    "score = int(input('점수를 입력하세요:'))\n",
    "if score >= 90 :\n",
    "    grade = 'A'\n",
    "if score < 90 and score >= 80:\n",
    "    grade = 'B'\n",
    "if 80 > score >= 70:\n",
    "    grade = 'C'\n",
    "if 70 > score >= 60:\n",
    "    grade = 'D'\n",
    "if 60 > score >= 50:\n",
    "    grade = 'F'\n",
    "    \n",
    "print('당신의 등급은 :', grade)"
   ]
  },
  {
   "cell_type": "code",
   "execution_count": 155,
   "metadata": {},
   "outputs": [
    {
     "name": "stdout",
     "output_type": "stream",
     "text": [
      "1992 년은 윤년입니까? True\n"
     ]
    }
   ],
   "source": [
    "year = int(input('연도를 입력하세요 :'))\n",
    "is_leap_year = ((year % 4 == 0) and (year % 100 !=0) or (year % 400 == 0))\n",
    "print(year, '년은 윤년입니까?', is_leap_year)"
   ]
  },
  {
   "cell_type": "code",
   "execution_count": 149,
   "metadata": {},
   "outputs": [
    {
     "name": "stdout",
     "output_type": "stream",
     "text": [
      "청소년입니다.\n"
     ]
    }
   ],
   "source": [
    "\n",
    "age = 12\n",
    "if 10< age < 19:\n",
    "    print('청소년입니다.')"
   ]
  },
  {
   "cell_type": "code",
   "execution_count": 151,
   "metadata": {},
   "outputs": [],
   "source": [
    "age = 10\n",
    "if 10< age < 19:\n",
    "    print('청소년입니다.')"
   ]
  },
  {
   "cell_type": "code",
   "execution_count": 146,
   "metadata": {},
   "outputs": [
    {
     "name": "stdout",
     "output_type": "stream",
     "text": [
      "False\n"
     ]
    }
   ],
   "source": [
    "num = 11\n",
    "if 0 < num <=10 :\n",
    "    print(True)\n",
    "else:\n",
    "    print(False)"
   ]
  },
  {
   "cell_type": "code",
   "execution_count": 116,
   "metadata": {},
   "outputs": [
    {
     "name": "stdout",
     "output_type": "stream",
     "text": [
      "두 수 모두 짝수입니다.\n",
      "두 수 중 하나 이상이 짝수입니다.\n"
     ]
    }
   ],
   "source": [
    "a = 8\n",
    "b = 14\n",
    "if ( a% 2 == 0) and (b % 2 == 0):\n",
    "    print('두 수 모두 짝수입니다.')\n",
    "\n",
    "if (a % 2 == 0) or (b % 2 == 0):\n",
    "    print('두 수 중 하나 이상이 짝수입니다.')"
   ]
  },
  {
   "cell_type": "code",
   "execution_count": 105,
   "metadata": {},
   "outputs": [
    {
     "name": "stdout",
     "output_type": "stream",
     "text": [
      "당신 결혼한 성인입니다\n"
     ]
    }
   ],
   "source": [
    "\n",
    "x = 1 # 당신은 성인인가요?\n",
    "y = 1 # 결혼은 하셨나요?\n",
    "if x == 0 and y == 0:\n",
    "    print('당신은 비혼인 미성년입니다')\n",
    "if x == 1 and y == 0:\n",
    "    print('당신 비혼인 성인입니다')\n",
    "if x == 0 and y == 1:\n",
    "    print('당신 결혼한 미성년입니다')\n",
    "if x == 1 and y == 1:\n",
    "    print('당신 결혼한 성인입니다')"
   ]
  },
  {
   "cell_type": "code",
   "execution_count": 99,
   "metadata": {},
   "outputs": [
    {
     "name": "stdout",
     "output_type": "stream",
     "text": [
      "당신은 성인입니다\n"
     ]
    }
   ],
   "source": [
    "x = 0\n",
    "y = 1\n",
    "if x == 1:\n",
    "    print('당신은 미성년자입니다')\n",
    "else:\n",
    "    print('당신은 성인입니다')"
   ]
  },
  {
   "cell_type": "code",
   "execution_count": 96,
   "metadata": {},
   "outputs": [
    {
     "name": "stdout",
     "output_type": "stream",
     "text": [
      " x와 y 두 값이 같습니다\n"
     ]
    }
   ],
   "source": [
    "x = 200\n",
    "y = 200\n",
    "if x == y:\n",
    "    print(' x와 y','두 값이 같습니다')\n",
    "else:\n",
    "    print(' x와 y','두 값이 일치하지 않습니다' )"
   ]
  },
  {
   "cell_type": "code",
   "execution_count": 85,
   "metadata": {},
   "outputs": [
    {
     "name": "stdout",
     "output_type": "stream",
     "text": [
      "1300 고수입니다\n"
     ]
    }
   ],
   "source": [
    "game_score = 1300\n",
    "if game_score <= 1000:\n",
    "    print(game_score, '입문자 입니다')\n",
    "else:\n",
    "    print(game_score, '고수입니다')"
   ]
  },
  {
   "cell_type": "code",
   "execution_count": 84,
   "metadata": {},
   "outputs": [
    {
     "name": "stdout",
     "output_type": "stream",
     "text": [
      "8000 고수입니다\n"
     ]
    }
   ],
   "source": [
    "game_score = 800\n",
    "if game_score <= 1000:\n",
    "    print(game_score, '입문자 입니다')\n",
    "else:\n",
    "    print(game_score, '고수입니다')\n"
   ]
  },
  {
   "cell_type": "code",
   "execution_count": 74,
   "metadata": {},
   "outputs": [
    {
     "name": "stdout",
     "output_type": "stream",
     "text": [
      "-199 은(는) 음수입니다.\n"
     ]
    }
   ],
   "source": [
    "num = -199\n",
    "if num < 0:\n",
    "    print(num, '은(는) 음수입니다.')\n",
    "else:\n",
    "    print(num, '은(는) 음수가 아닙니다')\n",
    "    \n",
    "    if num % 2 == 0:\n",
    "        print(num, '은(는) 짝수입니다.')\n",
    "    else:\n",
    "        print(num, '은(는) 짝수가 아닙니다')"
   ]
  },
  {
   "cell_type": "code",
   "execution_count": 70,
   "metadata": {},
   "outputs": [
    {
     "name": "stdout",
     "output_type": "stream",
     "text": [
      "-10 음수입니다\n"
     ]
    }
   ],
   "source": [
    "num = -10\n",
    "if num <0:\n",
    "    print(num, '음수입니다')\n",
    "else:\n",
    "    print(num, '음수가 아닙니다')"
   ]
  },
  {
   "cell_type": "code",
   "execution_count": 71,
   "metadata": {},
   "outputs": [
    {
     "name": "stdout",
     "output_type": "stream",
     "text": [
      "10 음수가 아닙니다\n"
     ]
    }
   ],
   "source": [
    "num = 10\n",
    "if num <0:\n",
    "    print(num, '음수입니다')\n",
    "else:\n",
    "    print(num, '음수가 아닙니다')"
   ]
  },
  {
   "cell_type": "code",
   "execution_count": 66,
   "metadata": {},
   "outputs": [
    {
     "name": "stdout",
     "output_type": "stream",
     "text": [
      "오전입니다\n"
     ]
    }
   ],
   "source": [
    "hour = 1\n",
    "if hour < 12:\n",
    "    print('오전입니다')\n",
    "if hour >= 12:\n",
    "    print('오후입니다')"
   ]
  },
  {
   "cell_type": "code",
   "execution_count": 60,
   "metadata": {},
   "outputs": [
    {
     "name": "stdout",
     "output_type": "stream",
     "text": [
      "-10 은(는) 음수입니다\n"
     ]
    }
   ],
   "source": [
    "y = -10\n",
    "if y <= -1:\n",
    "    print(y,'은(는) 음수입니다')"
   ]
  },
  {
   "cell_type": "code",
   "execution_count": 59,
   "metadata": {},
   "outputs": [
    {
     "name": "stdout",
     "output_type": "stream",
     "text": [
      "3560 은(는) 자연수입니다\n"
     ]
    }
   ],
   "source": [
    "x = 3560\n",
    "if x >= 1:\n",
    "    print(x, '은(는) 자연수입니다')"
   ]
  },
  {
   "cell_type": "code",
   "execution_count": 52,
   "metadata": {},
   "outputs": [],
   "source": [
    "n = 75\n",
    "if n % 2 ==0:\n",
    "    print(n, '은(는) 짝수입니다')"
   ]
  },
  {
   "cell_type": "code",
   "execution_count": 47,
   "metadata": {},
   "outputs": [
    {
     "name": "stdout",
     "output_type": "stream",
     "text": [
      "50 은(는) 짝수입니다\n"
     ]
    }
   ],
   "source": [
    "number = 50\n",
    "if number % 2 == 0:\n",
    "    print(number, '은(는) 짝수입니다')"
   ]
  },
  {
   "cell_type": "code",
   "execution_count": 44,
   "metadata": {},
   "outputs": [
    {
     "name": "stdout",
     "output_type": "stream",
     "text": [
      "15 은(는) 3의 배수이면서 5의 배수입니다\n"
     ]
    }
   ],
   "source": [
    "number = int(input('정수를 입력하세요 : '))\n",
    "if number % 3 == 0 and number % 5 == 0:\n",
    "    print(number, '은(는) 3의 배수이면서 5의 배수입니다')"
   ]
  },
  {
   "cell_type": "code",
   "execution_count": 43,
   "metadata": {},
   "outputs": [
    {
     "name": "stdout",
     "output_type": "stream",
     "text": [
      "12 은(는) 3의 배수입니다.\n"
     ]
    }
   ],
   "source": [
    "number = int(input('정수를 입력하세요 :'))\n",
    "if number % 3 == 0:\n",
    "    print(number, '은(는) 3의 배수입니다.')"
   ]
  },
  {
   "cell_type": "code",
   "execution_count": 38,
   "metadata": {},
   "outputs": [],
   "source": [
    "num = 300\n",
    "if num > 200:\n",
    "    print('num은 200보다 큽니다.')"
   ]
  },
  {
   "cell_type": "code",
   "execution_count": 36,
   "metadata": {},
   "outputs": [
    {
     "name": "stdout",
     "output_type": "stream",
     "text": [
      "나이 18\n",
      "청소년 할인\n"
     ]
    }
   ],
   "source": [
    "age = 18\n",
    "if age < 20:\n",
    "    print('나이', age)\n",
    "    print('청소년 할인')"
   ]
  },
  {
   "cell_type": "code",
   "execution_count": 33,
   "metadata": {},
   "outputs": [],
   "source": [
    "age = 24\n",
    "if age < 20:\n",
    "    print('나이', age)\n",
    "    print('청소년 할인')\n",
    "    print('입장을 환영합니다')"
   ]
  },
  {
   "cell_type": "code",
   "execution_count": 32,
   "metadata": {},
   "outputs": [
    {
     "name": "stdout",
     "output_type": "stream",
     "text": [
      "나이 19\n",
      "청소년 할인\n",
      "입장을 환영합니다\n"
     ]
    }
   ],
   "source": [
    "age = 18\n",
    "if age < 20:\n",
    "    print('나이', age)\n",
    "    print('청소년 할인')\n",
    "    print('입장을 환영합니다')"
   ]
  },
  {
   "cell_type": "code",
   "execution_count": 30,
   "metadata": {},
   "outputs": [
    {
     "name": "stdout",
     "output_type": "stream",
     "text": [
      "입장을 환영합니다\n"
     ]
    }
   ],
   "source": [
    "age = 24\n",
    "if age < 20:\n",
    "    print('청소년 할인')\n",
    "print('입장을 환영합니다')"
   ]
  },
  {
   "cell_type": "code",
   "execution_count": 29,
   "metadata": {},
   "outputs": [
    {
     "name": "stdout",
     "output_type": "stream",
     "text": [
      "청소년 할인\n",
      "입장을 환영합니다\n"
     ]
    }
   ],
   "source": [
    "age = 19\n",
    "if age < 20:\n",
    "    print('청소년 할인')\n",
    "print('입장을 환영합니다')"
   ]
  },
  {
   "cell_type": "code",
   "execution_count": 28,
   "metadata": {},
   "outputs": [
    {
     "name": "stdout",
     "output_type": "stream",
     "text": [
      "청소년 할인\n"
     ]
    }
   ],
   "source": [
    "age = 18\n",
    "if age < 20:\n",
    "    print('청소년 할인')"
   ]
  },
  {
   "cell_type": "code",
   "execution_count": 25,
   "metadata": {},
   "outputs": [
    {
     "name": "stdout",
     "output_type": "stream",
     "text": [
      "두 값이 일치합니다\n"
     ]
    }
   ],
   "source": [
    "num_a = 300\n",
    "num_b = 300\n",
    "if num_a == num_b:\n",
    "    print('두 값이 일치합니다')"
   ]
  },
  {
   "cell_type": "code",
   "execution_count": 24,
   "metadata": {},
   "outputs": [],
   "source": [
    "num_a = 100\n",
    "num_b = 200\n",
    "if num_a == num_b:\n",
    "    print('두 값이 일치합니다')"
   ]
  },
  {
   "cell_type": "code",
   "execution_count": 15,
   "metadata": {},
   "outputs": [
    {
     "name": "stdout",
     "output_type": "stream",
     "text": [
      "당신은 고수입니다\n"
     ]
    }
   ],
   "source": [
    "# walk_count = 800\n",
    "walk_count = 1300\n",
    "if walk_count >= 1000:  \n",
    "    print('당신은 고수입니다')"
   ]
  },
  {
   "cell_type": "code",
   "execution_count": 10,
   "metadata": {},
   "outputs": [
    {
     "name": "stdout",
     "output_type": "stream",
     "text": [
      "목표 달성\n"
     ]
    }
   ],
   "source": [
    "walk_count = 800\n",
    "\n",
    "if walk_count <= 1000:\n",
    "    print('목표 달성')"
   ]
  },
  {
   "cell_type": "code",
   "execution_count": 9,
   "metadata": {},
   "outputs": [
    {
     "name": "stdout",
     "output_type": "stream",
     "text": [
      "청소년 할인\n"
     ]
    }
   ],
   "source": [
    "age = 24 #age가 20 이상의 값\n",
    "\n",
    "if age > 20:  # age < 20 조건식의 결과는 False임\n",
    "    print('청소년 할인')"
   ]
  },
  {
   "cell_type": "code",
   "execution_count": 1,
   "metadata": {},
   "outputs": [
    {
     "name": "stdout",
     "output_type": "stream",
     "text": [
      "청소년 할인\n"
     ]
    }
   ],
   "source": [
    "age = 18\n",
    "if age < 20:\n",
    "    print('청소년 할인')\n",
    "    "
   ]
  },
  {
   "cell_type": "code",
   "execution_count": 182,
   "metadata": {},
   "outputs": [
    {
     "name": "stdout",
     "output_type": "stream",
     "text": [
      "*****\n",
      "****\n",
      "***\n",
      "**\n",
      "*\n"
     ]
    }
   ],
   "source": [
    "for i in range(5, 0, -1):\n",
    "    print((i) * '*')"
   ]
  },
  {
   "cell_type": "code",
   "execution_count": null,
   "metadata": {},
   "outputs": [],
   "source": [
    "n = int(input('수를 입력하세요 : '))\n",
    "fact = 1\n",
    "for i in range(1, n+2):\n",
    "    fact = fact * i\n",
    "    \n",
    "print('{}! = {}'.format(n, fact))"
   ]
  },
  {
   "cell_type": "code",
   "execution_count": 171,
   "metadata": {},
   "outputs": [
    {
     "data": {
      "text/plain": [
       "16"
      ]
     },
     "execution_count": 171,
     "metadata": {},
     "output_type": "execute_result"
    }
   ],
   "source": [
    "2 << 3 # << 거든 제곱\n"
   ]
  },
  {
   "cell_type": "code",
   "execution_count": 168,
   "metadata": {},
   "outputs": [
    {
     "name": "stdout",
     "output_type": "stream",
     "text": [
      "139 의 루트 :  11.789826122551595\n"
     ]
    }
   ],
   "source": [
    "num = int(input('숫자를 입력하세요 :'))\n",
    "print(num, \"의 루트 : \",num**(1/2))"
   ]
  },
  {
   "cell_type": "code",
   "execution_count": 164,
   "metadata": {},
   "outputs": [
    {
     "name": "stdout",
     "output_type": "stream",
     "text": [
      "10! = 3628800\n"
     ]
    }
   ],
   "source": [
    "n = int(input('수를 입력하세요 : '))\n",
    "fact = 1\n",
    "for i in range(1, n+2):\n",
    "    fact = fact * i\n",
    "    \n",
    "print('{}! = {}'.format(n, fact))"
   ]
  },
  {
   "cell_type": "code",
   "execution_count": 162,
   "metadata": {},
   "outputs": [
    {
     "name": "stdout",
     "output_type": "stream",
     "text": [
      "3628800\n"
     ]
    }
   ],
   "source": [
    "print(1*2*3*4*5*6*7*8*9*10)\n"
   ]
  },
  {
   "cell_type": "code",
   "execution_count": 161,
   "metadata": {},
   "outputs": [
    {
     "name": "stdout",
     "output_type": "stream",
     "text": [
      "원의 면적 : 380.132632\n",
      "원의 둘레 : 69.115024\n"
     ]
    }
   ],
   "source": [
    "radius = 11\n",
    "PI = 3.141592\n",
    "print('원의 면적 :', PI * radius ** 2 )\n",
    "print('원의 둘레 :', radius * PI * 2.0)"
   ]
  },
  {
   "cell_type": "code",
   "execution_count": 157,
   "metadata": {},
   "outputs": [
    {
     "name": "stdout",
     "output_type": "stream",
     "text": [
      "섭씨 0  도는 화씨  30   도 입니다\n"
     ]
    }
   ],
   "source": [
    "f = int(input('섭씨온도를 입력하세요.'))\n",
    "c = int(input('화씨온도를 입력하세요.'))\n",
    "print(\"섭씨\" ,f, \" 도는 화씨 \",c,\"  도 입니다\")\n"
   ]
  },
  {
   "cell_type": "code",
   "execution_count": 144,
   "metadata": {},
   "outputs": [
    {
     "name": "stdout",
     "output_type": "stream",
     "text": [
      "16\n"
     ]
    }
   ],
   "source": [
    "a = 4\n",
    "n = 2\n",
    "print(a**n)"
   ]
  },
  {
   "cell_type": "code",
   "execution_count": 141,
   "metadata": {},
   "outputs": [
    {
     "name": "stdout",
     "output_type": "stream",
     "text": [
      "55\n"
     ]
    }
   ],
   "source": [
    "print(1+2+3+4+5+6+7+8+9+10)"
   ]
  },
  {
   "cell_type": "code",
   "execution_count": 139,
   "metadata": {},
   "outputs": [
    {
     "name": "stdout",
     "output_type": "stream",
     "text": [
      "1600\n"
     ]
    }
   ],
   "source": [
    "l = int(input('정사각형의 밑변을 입력하시오 :'))\n",
    "print(l ** 2)"
   ]
  },
  {
   "cell_type": "code",
   "execution_count": 138,
   "metadata": {},
   "outputs": [
    {
     "data": {
      "text/plain": [
       "400.0"
      ]
     },
     "execution_count": 138,
     "metadata": {},
     "output_type": "execute_result"
    }
   ],
   "source": [
    "width = 40\n",
    "height = 20\n",
    "area = width * height / 2\n",
    "area"
   ]
  },
  {
   "cell_type": "code",
   "execution_count": 135,
   "metadata": {},
   "outputs": [
    {
     "data": {
      "text/plain": [
       "800"
      ]
     },
     "execution_count": 135,
     "metadata": {},
     "output_type": "execute_result"
    }
   ],
   "source": [
    "width = 40\n",
    "height = 20\n",
    "area = width * height\n",
    "area"
   ]
  },
  {
   "cell_type": "code",
   "execution_count": 134,
   "metadata": {},
   "outputs": [
    {
     "name": "stdout",
     "output_type": "stream",
     "text": [
      "1800\n"
     ]
    }
   ],
   "source": [
    "width = 30\n",
    "height = 60\n",
    "print(width * height)"
   ]
  },
  {
   "cell_type": "code",
   "execution_count": 133,
   "metadata": {},
   "outputs": [
    {
     "name": "stdout",
     "output_type": "stream",
     "text": [
      "30\n",
      "60\n"
     ]
    }
   ],
   "source": [
    "width = 30\n",
    "height = 60\n",
    "print(width)\n",
    "print(height)"
   ]
  },
  {
   "cell_type": "code",
   "execution_count": 132,
   "metadata": {},
   "outputs": [
    {
     "name": "stdout",
     "output_type": "stream",
     "text": [
      "200 + 300 + 400 = 900\n"
     ]
    }
   ],
   "source": [
    "print(200,'+', 300,'+', 400 ,'=', 200+300+400)"
   ]
  },
  {
   "cell_type": "code",
   "execution_count": null,
   "metadata": {},
   "outputs": [],
   "source": []
  },
  {
   "cell_type": "code",
   "execution_count": 128,
   "metadata": {},
   "outputs": [
    {
     "name": "stdout",
     "output_type": "stream",
     "text": [
      "m + n= 80\n",
      "m - n= -20\n"
     ]
    }
   ],
   "source": [
    "m = int(input('숫자 m을 입력하세요 :'))\n",
    "n = int(input('숫자 n을 입력하세요 : '))\n",
    "print('m + n=', m + n)\n",
    "print('m - n=', m - n)\n"
   ]
  },
  {
   "cell_type": "code",
   "execution_count": 127,
   "metadata": {},
   "outputs": [
    {
     "name": "stdout",
     "output_type": "stream",
     "text": [
      "김유신 님이 입장하셨습니다.\n"
     ]
    }
   ],
   "source": [
    "name = input('이름을 입력하세요 :')\n",
    "print(name, '님이 입장하셨습니다.')"
   ]
  },
  {
   "cell_type": "code",
   "execution_count": 113,
   "metadata": {},
   "outputs": [
    {
     "data": {
      "text/plain": [
       "'0b1000'"
      ]
     },
     "execution_count": 113,
     "metadata": {},
     "output_type": "execute_result"
    }
   ],
   "source": [
    "9 & 10\n",
    "bin(8)"
   ]
  },
  {
   "cell_type": "code",
   "execution_count": 126,
   "metadata": {},
   "outputs": [
    {
     "name": "stdout",
     "output_type": "stream",
     "text": [
      "이름 : 홍길동\n",
      "10년 후 나이 : 32\n"
     ]
    }
   ],
   "source": [
    "\n",
    "name = input('입력을 입려하세요:' ) #input 입력을 받는다\n",
    "print('이름 :', name)\n",
    "age = int(input('나이를 입력하세요 :'))\n",
    "print('10년 후 나이 :', age + 10)"
   ]
  },
  {
   "cell_type": "code",
   "execution_count": 117,
   "metadata": {},
   "outputs": [
    {
     "data": {
      "text/plain": [
       "16"
      ]
     },
     "execution_count": 117,
     "metadata": {},
     "output_type": "execute_result"
    }
   ],
   "source": [
    "4 << 1\n",
    "4 << 2"
   ]
  },
  {
   "cell_type": "code",
   "execution_count": 116,
   "metadata": {},
   "outputs": [
    {
     "data": {
      "text/plain": [
       "3"
      ]
     },
     "execution_count": 116,
     "metadata": {},
     "output_type": "execute_result"
    }
   ],
   "source": [
    "9^10"
   ]
  },
  {
   "cell_type": "code",
   "execution_count": 115,
   "metadata": {},
   "outputs": [
    {
     "data": {
      "text/plain": [
       "11"
      ]
     },
     "execution_count": 115,
     "metadata": {},
     "output_type": "execute_result"
    }
   ],
   "source": [
    "9|10"
   ]
  },
  {
   "cell_type": "code",
   "execution_count": 111,
   "metadata": {},
   "outputs": [
    {
     "data": {
      "text/plain": [
       "'0b1010'"
      ]
     },
     "execution_count": 111,
     "metadata": {},
     "output_type": "execute_result"
    }
   ],
   "source": [
    "bin(9)\n",
    "bin(10)"
   ]
  },
  {
   "cell_type": "code",
   "execution_count": 109,
   "metadata": {},
   "outputs": [
    {
     "data": {
      "text/plain": [
       "False"
      ]
     },
     "execution_count": 109,
     "metadata": {},
     "output_type": "execute_result"
    }
   ],
   "source": [
    "x = True\n",
    "y = False\n",
    "x and y\n",
    "x or y\n",
    "not x"
   ]
  },
  {
   "cell_type": "code",
   "execution_count": 108,
   "metadata": {},
   "outputs": [
    {
     "data": {
      "text/plain": [
       "False"
      ]
     },
     "execution_count": 108,
     "metadata": {},
     "output_type": "execute_result"
    }
   ],
   "source": [
    "a, b = 100, 200\n",
    "a == b\n",
    "a != b\n",
    "a > b\n",
    "a < b\n",
    "a >= b"
   ]
  },
  {
   "cell_type": "code",
   "execution_count": 101,
   "metadata": {},
   "outputs": [
    {
     "data": {
      "text/plain": [
       "300"
      ]
     },
     "execution_count": 101,
     "metadata": {},
     "output_type": "execute_result"
    }
   ],
   "source": [
    "num = 200\n",
    "num = num + 100\n",
    "num\n"
   ]
  },
  {
   "cell_type": "code",
   "execution_count": 100,
   "metadata": {},
   "outputs": [
    {
     "data": {
      "text/plain": [
       "-2.0"
      ]
     },
     "execution_count": 100,
     "metadata": {},
     "output_type": "execute_result"
    }
   ],
   "source": [
    "result1 = 10 * 20\n",
    "result1\n",
    "result2 = (2 * 3) - (4 ** 2) / 2\n",
    "result2"
   ]
  },
  {
   "cell_type": "code",
   "execution_count": 98,
   "metadata": {},
   "outputs": [
    {
     "name": "stdout",
     "output_type": "stream",
     "text": [
      "200 200 200\n",
      "300 400\n"
     ]
    }
   ],
   "source": [
    "num1 = num2 = num3 = 200 # 다중 할당문\n",
    "print(num1,num2, num3)\n",
    "num4, num5 = 300, 400 # 동시 할당문\n",
    "print(num4, num5)"
   ]
  },
  {
   "cell_type": "code",
   "execution_count": 96,
   "metadata": {},
   "outputs": [
    {
     "data": {
      "text/plain": [
       "12.999999999999998"
      ]
     },
     "execution_count": 96,
     "metadata": {},
     "output_type": "execute_result"
    }
   ],
   "source": [
    "c1 = 2+ 3j\n",
    "c2 = c1.conjugate()\n",
    "c2\n",
    "abs(c1)\n",
    "c3 = c1 * c2\n",
    "abs(c1)*abs(c1)"
   ]
  },
  {
   "cell_type": "code",
   "execution_count": 91,
   "metadata": {},
   "outputs": [
    {
     "data": {
      "text/plain": [
       "(7+9j)"
      ]
     },
     "execution_count": 91,
     "metadata": {},
     "output_type": "execute_result"
    }
   ],
   "source": [
    "c1 = 2+3j\n",
    "c1.real # C1의 실수부 허용\n",
    "c1.imag # C1의 허수부 허용\n",
    "c2 = 5+6j\n",
    "c3 = c1 + c2\n",
    "c3\n"
   ]
  },
  {
   "cell_type": "code",
   "execution_count": 88,
   "metadata": {},
   "outputs": [
    {
     "name": "stdout",
     "output_type": "stream",
     "text": [
      "True\n",
      "False\n"
     ]
    }
   ],
   "source": [
    "print(0.1 + 0.1 == 0.2)\n",
    "print(0.1 + 0.1 + 0.1 == 0.3)"
   ]
  },
  {
   "cell_type": "code",
   "execution_count": 87,
   "metadata": {},
   "outputs": [
    {
     "name": "stdout",
     "output_type": "stream",
     "text": [
      "3\n",
      "3.0\n",
      "3.0\n",
      "0.5\n",
      "True\n"
     ]
    }
   ],
   "source": [
    "print(1+2)\n",
    "print(1.0+2.0)\n",
    "print(1+2.0)\n",
    "print(1/2)\n",
    "print(5.0 == 5.00)"
   ]
  },
  {
   "cell_type": "code",
   "execution_count": 84,
   "metadata": {},
   "outputs": [
    {
     "name": "stdout",
     "output_type": "stream",
     "text": [
      "hello\n"
     ]
    }
   ],
   "source": [
    "txt = 'hello'\n",
    "txt\n",
    "print(txt)"
   ]
  },
  {
   "cell_type": "code",
   "execution_count": 82,
   "metadata": {},
   "outputs": [
    {
     "name": "stdout",
     "output_type": "stream",
     "text": [
      "사과는 맛있어\n",
      "맛있는 건 바나나\n",
      "\n"
     ]
    }
   ],
   "source": [
    "txt6 = '''let's go'''\n",
    "txt6\n",
    "txt7 = '''큰따옴표(\")와 작은따옴표(')를 모두 포함한 문장'''\n",
    "txt7\n",
    "long_str=\"\"\"사과는 맛있어\n",
    "맛있는 건 바나나\n",
    "\"\"\"\n",
    "long_str\n",
    "print(long_str)"
   ]
  },
  {
   "cell_type": "code",
   "execution_count": 75,
   "metadata": {},
   "outputs": [
    {
     "name": "stdout",
     "output_type": "stream",
     "text": [
      "banana\n",
      "apple\n",
      "orange\n"
     ]
    }
   ],
   "source": [
    "txt5 = 'banana\\napple\\norange'\n",
    "print(txt5)"
   ]
  },
  {
   "cell_type": "code",
   "execution_count": null,
   "metadata": {},
   "outputs": [],
   "source": []
  },
  {
   "cell_type": "code",
   "execution_count": 64,
   "metadata": {},
   "outputs": [
    {
     "ename": "SyntaxError",
     "evalue": "invalid syntax (2796399964.py, line 1)",
     "output_type": "error",
     "traceback": [
      "\u001b[1;36m  Cell \u001b[1;32mIn[64], line 1\u001b[1;36m\u001b[0m\n\u001b[1;33m    txt3 = \"친구가/\"햇님이 좋아!/\"라고 말했다\"\u001b[0m\n\u001b[1;37m                 ^\u001b[0m\n\u001b[1;31mSyntaxError\u001b[0m\u001b[1;31m:\u001b[0m invalid syntax\n"
     ]
    }
   ],
   "source": [
    "txt3 = \"친구가/\"햇님이 좋아!/\"라고 말했다\"\n",
    "txt3"
   ]
  },
  {
   "cell_type": "code",
   "execution_count": 62,
   "metadata": {},
   "outputs": [
    {
     "data": {
      "text/plain": [
       "\"친구가 '햇님이 좋아!'라고 말했다.\""
      ]
     },
     "execution_count": 62,
     "metadata": {},
     "output_type": "execute_result"
    }
   ],
   "source": [
    "txt3 = \"친구가 '햇님이 좋아!'라고 말했다.\"\n",
    "txt3"
   ]
  },
  {
   "cell_type": "code",
   "execution_count": 60,
   "metadata": {},
   "outputs": [
    {
     "data": {
      "text/plain": [
       "\"강아지 이름은 '햇님'이야\""
      ]
     },
     "execution_count": 60,
     "metadata": {},
     "output_type": "execute_result"
    }
   ],
   "source": [
    "txt2 = \"강아지 이름은 '햇님'이야\"\n",
    "txt2"
   ]
  },
  {
   "cell_type": "code",
   "execution_count": 59,
   "metadata": {},
   "outputs": [
    {
     "data": {
      "text/plain": [
       "'강아지 이름은 \"햇님\"이야'"
      ]
     },
     "execution_count": 59,
     "metadata": {},
     "output_type": "execute_result"
    }
   ],
   "source": [
    "txt1 = '강아지 이름은 \"햇님\"이야'\n",
    "txt1"
   ]
  },
  {
   "cell_type": "code",
   "execution_count": 57,
   "metadata": {},
   "outputs": [
    {
     "data": {
      "text/plain": [
       "\"['A', 'B', 'C']\""
      ]
     },
     "execution_count": 57,
     "metadata": {},
     "output_type": "execute_result"
    }
   ],
   "source": [
    "x = [\"A\",\"B\",\"C\"]\n",
    "str(x)"
   ]
  },
  {
   "cell_type": "code",
   "execution_count": 56,
   "metadata": {},
   "outputs": [
    {
     "data": {
      "text/plain": [
       "\"['A', 'B', 'C']\""
      ]
     },
     "execution_count": 56,
     "metadata": {},
     "output_type": "execute_result"
    }
   ],
   "source": [
    "x = ['A', 'B', 'C']\n",
    "str(x)"
   ]
  },
  {
   "cell_type": "code",
   "execution_count": 55,
   "metadata": {},
   "outputs": [
    {
     "data": {
      "text/plain": [
       "'123.5'"
      ]
     },
     "execution_count": 55,
     "metadata": {},
     "output_type": "execute_result"
    }
   ],
   "source": [
    "str(123.5)"
   ]
  },
  {
   "cell_type": "code",
   "execution_count": 54,
   "metadata": {},
   "outputs": [
    {
     "data": {
      "text/plain": [
       "'100'"
      ]
     },
     "execution_count": 54,
     "metadata": {},
     "output_type": "execute_result"
    }
   ],
   "source": [
    "str(100)"
   ]
  },
  {
   "cell_type": "code",
   "execution_count": null,
   "metadata": {},
   "outputs": [],
   "source": []
  },
  {
   "cell_type": "code",
   "execution_count": 53,
   "metadata": {},
   "outputs": [
    {
     "data": {
      "text/plain": [
       "tuple"
      ]
     },
     "execution_count": 53,
     "metadata": {},
     "output_type": "execute_result"
    }
   ],
   "source": [
    "t = ('홍길동', 30, '율도국의 왕')\n",
    "type(t)"
   ]
  },
  {
   "cell_type": "code",
   "execution_count": 52,
   "metadata": {},
   "outputs": [
    {
     "data": {
      "text/plain": [
       "dict"
      ]
     },
     "execution_count": 52,
     "metadata": {},
     "output_type": "execute_result"
    }
   ],
   "source": [
    "d ={'apple': 3000, 'banana': 4200}\n",
    "type(d)"
   ]
  },
  {
   "cell_type": "code",
   "execution_count": 45,
   "metadata": {},
   "outputs": [
    {
     "data": {
      "text/plain": [
       "list"
      ]
     },
     "execution_count": 45,
     "metadata": {},
     "output_type": "execute_result"
    }
   ],
   "source": [
    "l = [100, 300, 500, 900]\n",
    "type(l)"
   ]
  },
  {
   "cell_type": "code",
   "execution_count": 44,
   "metadata": {},
   "outputs": [
    {
     "data": {
      "text/plain": [
       "float"
      ]
     },
     "execution_count": 44,
     "metadata": {},
     "output_type": "execute_result"
    }
   ],
   "source": [
    "\n",
    "# num= 85\n",
    "# type(num)\n",
    "pi = 3.14159\n",
    "type(pi)\n",
    "# message = \"Good morning\"\n",
    "# type(message)\n",
    "    "
   ]
  },
  {
   "cell_type": "code",
   "execution_count": 37,
   "metadata": {},
   "outputs": [
    {
     "data": {
      "text/plain": [
       "1"
      ]
     },
     "execution_count": 37,
     "metadata": {},
     "output_type": "execute_result"
    }
   ],
   "source": [
    "5%2"
   ]
  },
  {
   "cell_type": "code",
   "execution_count": 27,
   "metadata": {},
   "outputs": [
    {
     "name": "stdout",
     "output_type": "stream",
     "text": [
      "사각형의면적 1200\n"
     ]
    }
   ],
   "source": [
    "# LAB 2-6///\n",
    "width= 20\n",
    "height = 40\n",
    "width = 30\n",
    "area = width * height\n",
    "print('사각형의면적', area)"
   ]
  },
  {
   "cell_type": "code",
   "execution_count": 1,
   "metadata": {},
   "outputs": [
    {
     "name": "stdout",
     "output_type": "stream",
     "text": [
      "4와 5\n"
     ]
    }
   ],
   "source": [
    "print('4와 5')"
   ]
  },
  {
   "cell_type": "code",
   "execution_count": 2,
   "metadata": {},
   "outputs": [
    {
     "name": "stdout",
     "output_type": "stream",
     "text": [
      "원의 반지름 4.0\n",
      "원의 면적 50.24\n",
      "원의 둘레 25.12\n"
     ]
    }
   ],
   "source": [
    "# 2-3 \n",
    "radius = 4.0\n",
    "print('원의 반지름', radius)\n",
    "print('원의 면적', 3.14 * radius * radius)\n",
    "print('원의 둘레', 2 *3.14 * radius)\n",
    "\n"
   ]
  },
  {
   "cell_type": "code",
   "execution_count": 3,
   "metadata": {},
   "outputs": [
    {
     "name": "stdout",
     "output_type": "stream",
     "text": [
      "원의 반지름 6\n",
      "원의 면적 113.03999999999999\n",
      "원의 둘레 37.68\n"
     ]
    }
   ],
   "source": [
    "# 2-4\n",
    "radius = 6\n",
    "print('원의 반지름', radius)\n",
    "print('원의 면적', 3.14 *radius*radius)\n",
    "print('원의 둘레', 2.0 * 3.14 *radius)"
   ]
  },
  {
   "cell_type": "code",
   "execution_count": 12,
   "metadata": {},
   "outputs": [
    {
     "name": "stdout",
     "output_type": "stream",
     "text": [
      "원의 반지름 8\n",
      "원의 면적 200.96\n",
      "원의 둘레 50.24\n"
     ]
    }
   ],
   "source": [
    "# 원의 면적과 둘레 구하기\n",
    "print('원의 반지름', 8)\n",
    "print('원의 면적',3.14*8.0*8.0)\n",
    "print('원의 둘레', 2.0*3.14 * 8.0)"
   ]
  },
  {
   "cell_type": "code",
   "execution_count": 7,
   "metadata": {},
   "outputs": [
    {
     "data": {
      "text/plain": [
       "100"
      ]
     },
     "execution_count": 7,
     "metadata": {},
     "output_type": "execute_result"
    }
   ],
   "source": [
    "100"
   ]
  },
  {
   "cell_type": "code",
   "execution_count": 6,
   "metadata": {},
   "outputs": [
    {
     "name": "stdout",
     "output_type": "stream",
     "text": [
      "파이썬은 재미있어요~\n"
     ]
    }
   ],
   "source": [
    "print('파이썬은 재미있어요~')"
   ]
  },
  {
   "cell_type": "code",
   "execution_count": 12,
   "metadata": {},
   "outputs": [
    {
     "name": "stdout",
     "output_type": "stream",
     "text": [
      "사각형의 면적 800\n"
     ]
    }
   ],
   "source": [
    "width = 20\n",
    "height = 40\n",
    "area = (width * height)\n",
    "print('사각형의 면적', area)"
   ]
  },
  {
   "cell_type": "code",
   "execution_count": 13,
   "metadata": {},
   "outputs": [
    {
     "name": "stdout",
     "output_type": "stream",
     "text": [
      "나의 나이는 20 세 입니다\n"
     ]
    }
   ],
   "source": [
    "iixxjjkk = 20\n",
    "print('나의 나이는', iixxjjkk, '세 입니다')"
   ]
  },
  {
   "cell_type": "code",
   "execution_count": null,
   "metadata": {},
   "outputs": [],
   "source": []
  },
  {
   "cell_type": "code",
   "execution_count": 15,
   "metadata": {},
   "outputs": [
    {
     "name": "stdout",
     "output_type": "stream",
     "text": [
      "3\n"
     ]
    }
   ],
   "source": [
    "v1 = 1\n",
    "v2 = 2\n",
    "thisiaverylongvariavlename = v1 + v2\n",
    "print(thisiaverylongvariavlename)"
   ]
  },
  {
   "cell_type": "code",
   "execution_count": 16,
   "metadata": {},
   "outputs": [
    {
     "name": "stdout",
     "output_type": "stream",
     "text": [
      "삼각형의 면적은 100.0\n"
     ]
    }
   ],
   "source": [
    "radius = 20\n",
    "depth = 10\n",
    "final_length = 0.5* radius * depth\n",
    "print('삼각형의 면적은', final_length)"
   ]
  },
  {
   "cell_type": "code",
   "execution_count": 18,
   "metadata": {},
   "outputs": [
    {
     "ename": "SyntaxError",
     "evalue": "invalid decimal literal (4203587002.py, line 1)",
     "output_type": "error",
     "traceback": [
      "\u001b[1;36m  Cell \u001b[1;32mIn[18], line 1\u001b[1;36m\u001b[0m\n\u001b[1;33m    1st_year = 30\u001b[0m\n\u001b[1;37m    ^\u001b[0m\n\u001b[1;31mSyntaxError\u001b[0m\u001b[1;31m:\u001b[0m invalid decimal literal\n"
     ]
    }
   ],
   "source": [
    "1st_year = 30\n",
    "2nd_year = 30\n",
    "3rd_year = 16\n",
    "all_years+ = 1st_year + 2nd_tear + 3rd_tear\n",
    "print(all_years+)"
   ]
  },
  {
   "cell_type": "code",
   "execution_count": 19,
   "metadata": {},
   "outputs": [
    {
     "name": "stdout",
     "output_type": "stream",
     "text": [
      "안녕! 나는 홍길동 이야. 나는 나이가 27 살이야.\n"
     ]
    }
   ],
   "source": [
    "name = '홍길동'\n",
    "age = 27\n",
    "print('안녕! 나는', name, '이야. 나는 나이가', age, '살이야.')"
   ]
  },
  {
   "cell_type": "code",
   "execution_count": 23,
   "metadata": {},
   "outputs": [
    {
     "name": "stdout",
     "output_type": "stream",
     "text": [
      "안녕! 나는 홍길동  이야. 나는 나이가 27  살이야\n",
      "안녕! 나는 홍길순  이야. 나는 나이가 23  살이야\n"
     ]
    }
   ],
   "source": [
    "# 2-6\n",
    "name = '홍길동'\n",
    "age = 27\n",
    "print('안녕! 나는',name,' 이야. 나는 나이가',age,' 살이야')\n",
    "name = '홍길순'\n",
    "age = 23\n",
    "print('안녕! 나는',name,' 이야. 나는 나이가',age,' 살이야')"
   ]
  },
  {
   "cell_type": "code",
   "execution_count": null,
   "metadata": {},
   "outputs": [],
   "source": []
  }
 ],
 "metadata": {
  "kernelspec": {
   "display_name": "Python 3",
   "language": "python",
   "name": "python3"
  },
  "language_info": {
   "codemirror_mode": {
    "name": "ipython",
    "version": 3
   },
   "file_extension": ".py",
   "mimetype": "text/x-python",
   "name": "python",
   "nbconvert_exporter": "python",
   "pygments_lexer": "ipython3",
   "version": "3.12.2"
  }
 },
 "nbformat": 4,
 "nbformat_minor": 2
}
